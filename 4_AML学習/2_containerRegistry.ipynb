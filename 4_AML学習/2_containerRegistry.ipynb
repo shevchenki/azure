{
 "cells": [
  {
   "cell_type": "markdown",
   "metadata": {},
   "source": [
    "## 画像認識モデルからコンテナ作成、Azure Container Registryに登録\n",
    "- CONDA設定がJETSONにサポートされていないので、このオプションは参考のためです。"
   ]
  },
  {
   "cell_type": "code",
   "execution_count": null,
   "metadata": {},
   "outputs": [],
   "source": [
    "import azureml.core\n",
    "from azureml.core import Workspace, Dataset, Experiment, Model"
   ]
  },
  {
   "cell_type": "code",
   "execution_count": null,
   "metadata": {},
   "outputs": [],
   "source": [
    "ws = Workspace.from_config()\n",
    "print(ws.name, ws.location, ws.resource_group, ws.location, sep = '\\t')"
   ]
  },
  {
   "cell_type": "code",
   "execution_count": null,
   "metadata": {},
   "outputs": [],
   "source": [
    "model = Model(ws, name=\"cat-dog-runmodel\")"
   ]
  },
  {
   "cell_type": "code",
   "execution_count": null,
   "metadata": {},
   "outputs": [],
   "source": [
    "model.download(target_dir='.', exist_ok=False, exists_ok=None)"
   ]
  },
  {
   "cell_type": "markdown",
   "metadata": {},
   "source": [
    "### score.py作成"
   ]
  },
  {
   "cell_type": "code",
   "execution_count": null,
   "metadata": {},
   "outputs": [],
   "source": [
    "%%writefile score.py\n",
    "\n",
    "import json\n",
    "import numpy as np\n",
    "from PIL import Image\n",
    "import tensorflow as tf\n",
    "from keras.preprocessing.image import img_to_array\n",
    "from keras.preprocessing.image import load_img\n",
    "\n",
    "def init():\n",
    "    \n",
    "    global model\n",
    "    model = tf.keras.models.load_model(\"./outputs/keras_simple.h5\")\n",
    "\n",
    "def load_image(filename):\n",
    "    img = load_img(filename, target_size=(150, 150))\n",
    "    img = img_to_array(img)\n",
    "    img = img.reshape(1, 150, 150, 3)\n",
    "    img = img.astype('float32')\n",
    "    return img\n",
    "\n",
    "\n",
    "def run(input_str):\n",
    "    try:\n",
    "        input_json = json.loads(input_str)\n",
    "        print(\"INPUT_JSON: \", input_json)\n",
    "        img = load_image(input_json)\n",
    "        pred = model.predict(img)\n",
    "        print(\"Prediction is \", pred[0])\n",
    "        \n",
    "        if pred[0] == 1:\n",
    "            input_json['anomaly']=True\n",
    "        else:\n",
    "            input_json['anomaly']=False\n",
    "        result = [json.dumps(input_json)]\n",
    "    except Exception as e:\n",
    "        result = str(e)\n",
    "    \n",
    "    return result\n"
   ]
  },
  {
   "cell_type": "markdown",
   "metadata": {},
   "source": [
    "## myenv.yml作成"
   ]
  },
  {
   "cell_type": "code",
   "execution_count": null,
   "metadata": {},
   "outputs": [],
   "source": [
    "# This specifies the dependencies to include in the environment\n",
    "from azureml.core.conda_dependencies import CondaDependencies \n",
    "myenv = CondaDependencies.create(\n",
    "    conda_packages=['tensorflow', 'keras'],\n",
    "    pip_packages=['pillow', 'numpy']\n",
    ")\n",
    "\n",
    "with open(\"myenv.yml\",\"w\") as f:\n",
    "    f.write(myenv.serialize_to_string())"
   ]
  },
  {
   "cell_type": "markdown",
   "metadata": {},
   "source": [
    "## score.pyとmyenv.ymlからコンテナイメージ作成"
   ]
  },
  {
   "cell_type": "code",
   "execution_count": null,
   "metadata": {},
   "outputs": [],
   "source": [
    "from azureml.core.image import Image, ContainerImage\n",
    "\n",
    "image_config = ContainerImage.image_configuration(runtime= \"python\",\n",
    "                                 execution_script=\"score.py\",\n",
    "                                 conda_file=\"myenv.yml\",\n",
    "                                 tags = {'area': \"iot\", 'type': \"classification\"})\n",
    "\n",
    "image = Image.create(name = \"catdogimage\",\n",
    "                     # this is the model object \n",
    "                     models = [model],\n",
    "                     image_config = image_config, \n",
    "                     workspace = ws)"
   ]
  },
  {
   "cell_type": "code",
   "execution_count": null,
   "metadata": {},
   "outputs": [],
   "source": [
    "image.wait_for_creation(show_output = True)"
   ]
  }
 ],
 "metadata": {
  "kernelspec": {
   "display_name": "Python 3",
   "language": "python",
   "name": "python3"
  },
  "language_info": {
   "codemirror_mode": {
    "name": "ipython",
    "version": 3
   },
   "file_extension": ".py",
   "mimetype": "text/x-python",
   "name": "python",
   "nbconvert_exporter": "python",
   "pygments_lexer": "ipython3",
   "version": "3.8.3"
  }
 },
 "nbformat": 4,
 "nbformat_minor": 4
}
