{
 "cells": [
  {
   "cell_type": "markdown",
   "metadata": {},
   "source": [
    "## 1. Kerasモデル情報取得\n",
    "- **PIPライブラリ追加:** pip3 install tensorflow"
   ]
  },
  {
   "cell_type": "code",
   "execution_count": 1,
   "metadata": {},
   "outputs": [
    {
     "name": "stdout",
     "output_type": "stream",
     "text": [
      "INPUT:  [<tf.Tensor 'input_1:0' shape=(None, 150, 150, 3) dtype=float32>]\n",
      "OUTPUT:  [<tf.Tensor 'dense_1/Identity:0' shape=(None, 1) dtype=float32>]\n"
     ]
    }
   ],
   "source": [
    "import tensorflow as tf\n",
    "keras_model = tf.keras.models.load_model('./outputs/keras_simple.h5')\n",
    "\n",
    "print(\"INPUT: \", keras_model.inputs)\n",
    "print(\"OUTPUT: \", keras_model.outputs)"
   ]
  },
  {
   "cell_type": "markdown",
   "metadata": {},
   "source": [
    "## 2. onnxモデル作成\n",
    "- **PIPライブラリ追加:** pip3 install onnx onnxmltools tf2onnx keras2onnx"
   ]
  },
  {
   "cell_type": "code",
   "execution_count": 5,
   "metadata": {},
   "outputs": [],
   "source": [
    "# 環境変数設定\n",
    "import os\n",
    "os.environ['TF_KERAS'] = '1'"
   ]
  },
  {
   "cell_type": "code",
   "execution_count": 6,
   "metadata": {},
   "outputs": [],
   "source": [
    "#ONNXに変換\n",
    "import onnx\n",
    "import keras2onnx\n",
    "\n",
    "onnx_model_name = 'onnx_simple.onnx'\n",
    "onnx_model = keras2onnx.convert_keras(keras_model, keras_model.name) \n",
    "onnx.save_model(onnx_model, onnx_model_name)"
   ]
  },
  {
   "cell_type": "markdown",
   "metadata": {},
   "source": [
    "## 3. onnxmltoolsでonnxモデル作成"
   ]
  },
  {
   "cell_type": "code",
   "execution_count": 7,
   "metadata": {},
   "outputs": [],
   "source": [
    "import onnxmltools\n",
    "\n",
    "onnx_model_name = 'onnx_simple2.onnx'\n",
    "onnx_model = onnxmltools.convert_keras(keras_model) #ONNXに変換\n",
    "onnxmltools.utils.save_model(onnx_model, onnx_model_name)"
   ]
  },
  {
   "cell_type": "markdown",
   "metadata": {},
   "source": [
    "## 4. onnxモデル情報取得\n",
    "- **PIPライブラリ追加:** pip3 install onnx onnxruntime numpy"
   ]
  },
  {
   "cell_type": "code",
   "execution_count": 8,
   "metadata": {},
   "outputs": [
    {
     "name": "stdout",
     "output_type": "stream",
     "text": [
      "INPUT:  NodeArg(name='input_1', type='tensor(float)', shape=['N', 150, 150, 3])\n",
      "OUTPUT:  NodeArg(name='dense_1', type='tensor(float)', shape=['N', 1])\n"
     ]
    }
   ],
   "source": [
    "import numpy\n",
    "import onnx\n",
    "import onnxruntime as rt\n",
    "\n",
    "def load_model():\n",
    "    global sess\n",
    "    global input_name\n",
    "    global label_name\n",
    "    \n",
    "    sess = rt.InferenceSession(\"onnx_simple.onnx\")\n",
    "    input_name = sess.get_inputs()[0].name\n",
    "    label_name = sess.get_outputs()[0].name\n",
    "\n",
    "if __name__ == \"__main__\":\n",
    "    load_model()\n",
    "    print(\"INPUT: \", sess.get_inputs()[0])\n",
    "    print(\"OUTPUT: \", sess.get_outputs()[0])"
   ]
  },
  {
   "cell_type": "markdown",
   "metadata": {},
   "source": [
    "## 5. ONNXモデル検証\n",
    "- **PIPライブラリ追加:** pip3 install pillow"
   ]
  },
  {
   "cell_type": "code",
   "execution_count": 9,
   "metadata": {},
   "outputs": [
    {
     "name": "stdout",
     "output_type": "stream",
     "text": [
      "FINISH\n"
     ]
    }
   ],
   "source": [
    "import os\n",
    "from PIL import Image\n",
    "\n",
    "def load_image(filename):\n",
    "    img = Image.open(filename) # load image\n",
    "    img = img.resize((150,150)) # resize image to 150x150\n",
    "    img = numpy.asarray(img) # convert image to array use numpy\n",
    "    img = img.reshape(1, 150, 150, 3) # reshape\n",
    "    img = img.astype('float32') # astype\n",
    "    return img\n",
    "    \n",
    "def run():\n",
    "    try:\n",
    "        for filename in os.listdir('./dog_cat_images/'):\n",
    "            img = load_image('./dog_cat_images/' + filename)\n",
    "            result = sess.run(\n",
    "                [label_name], {input_name: img})[0]\n",
    "            if result[0] == 0:\n",
    "                os.rename('./dog_cat_images/' + filename,\n",
    "                          './dog_cat_images/cat_' + filename)\n",
    "            else:\n",
    "                os.rename('./dog_cat_images/' + filename,\n",
    "                          './dog_cat_images/dog_' + filename)\n",
    "        print(\"FINISH\")\n",
    "    except Exception as e:\n",
    "        print(\"EXCEPTION\", e)\n",
    "\n",
    "if __name__ == \"__main__\":\n",
    "    load_model()\n",
    "    run()"
   ]
  }
 ],
 "metadata": {
  "kernelspec": {
   "display_name": "Python (onnxenv)",
   "language": "python",
   "name": "onnx_env"
  },
  "language_info": {
   "codemirror_mode": {
    "name": "ipython",
    "version": 3
   },
   "file_extension": ".py",
   "mimetype": "text/x-python",
   "name": "python",
   "nbconvert_exporter": "python",
   "pygments_lexer": "ipython3",
   "version": "3.7.7"
  }
 },
 "nbformat": 4,
 "nbformat_minor": 4
}
